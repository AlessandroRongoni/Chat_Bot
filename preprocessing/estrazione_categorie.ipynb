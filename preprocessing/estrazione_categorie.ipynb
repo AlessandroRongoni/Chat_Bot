{
 "cells": [
  {
   "cell_type": "code",
   "execution_count": 2,
   "metadata": {},
   "outputs": [],
   "source": [
    "import pandas as pd\n",
    "\n",
    "# Sostituisci con il percorso al tuo file CSV\n",
    "PATH_TO_CSV = \"../dataset/cleaned/netflix_titles_cleaned.csv\"\n",
    "\n",
    "# Carica il dataset\n",
    "df = pd.read_csv(PATH_TO_CSV)"
   ]
  },
  {
   "cell_type": "code",
   "execution_count": 5,
   "metadata": {},
   "outputs": [
    {
     "name": "stdout",
     "output_type": "stream",
     "text": [
      "Categorie uniche:\n",
      "['Teens - Suitable for over 13 years' 'Mature - Suitable for adults only'\n",
      " 'Parental Guidance Suggested - Suitable for children with parental guidance'\n",
      " 'Teens - Suitable for over 14 years'\n",
      " 'Parental Guidance - Parents urged to give parental guidance under 12 years'\n",
      " 'Kids - Suitable for all children'\n",
      " 'Older Kids - Suitable for children over 7 years'\n",
      " 'Restricted - Suitable for adults (contains adult material)'\n",
      " 'General - Suitable for all audiences'\n",
      " 'Adults Only - Not suitable for children under 17 years'\n",
      " 'Non Specificato' 'Not Rated - No specific classification'\n",
      " 'Older Kids - Suitable for children over 7 years with fantasy violence elements'\n",
      " 'Unrated - Uncensored or extended version not submitted for classification']\n"
     ]
    }
   ],
   "source": [
    "# Estrai tutte le categorie uniche dalla colonna 'rating_category'\n",
    "categorie_uniche = df['rating_category'].unique()\n",
    "\n",
    "print(\"Categorie uniche:\")\n",
    "print(categorie_uniche)"
   ]
  },
  {
   "cell_type": "code",
   "execution_count": null,
   "metadata": {},
   "outputs": [],
   "source": [
    "# Crea un dizionario con le categorie come chiavi e stringhe vuote come valori\n",
    "dizionario_categorie = {categoria: \"\" for categoria in sorted(categorie_uniche)}\n",
    "\n",
    "# Stampa il dizionario per verificarlo\n",
    "print(dizionario_categorie)"
   ]
  }
 ],
 "metadata": {
  "kernelspec": {
   "display_name": "Python 3",
   "language": "python",
   "name": "python3"
  },
  "language_info": {
   "codemirror_mode": {
    "name": "ipython",
    "version": 3
   },
   "file_extension": ".py",
   "mimetype": "text/x-python",
   "name": "python",
   "nbconvert_exporter": "python",
   "pygments_lexer": "ipython3",
   "version": "3.11.6"
  }
 },
 "nbformat": 4,
 "nbformat_minor": 2
}
