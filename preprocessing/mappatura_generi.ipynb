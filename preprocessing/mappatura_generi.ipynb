{
 "cells": [
  {
   "cell_type": "code",
   "execution_count": 4,
   "metadata": {},
   "outputs": [],
   "source": [
    "import pandas as pd\n",
    "\n",
    "df = pd.read_csv('../dataset/raw/netflix_titles.csv')\n"
   ]
  },
  {
   "cell_type": "code",
   "execution_count": 5,
   "metadata": {},
   "outputs": [],
   "source": [
    "generi_unici = set()\n",
    "for lista_generi in df['listed_in'].str.split(', '):\n",
    "    generi_unici.update(lista_generi)\n"
   ]
  },
  {
   "cell_type": "code",
   "execution_count": 6,
   "metadata": {},
   "outputs": [
    {
     "name": "stdout",
     "output_type": "stream",
     "text": [
      "{'Classic Movies', 'Anime Series', 'TV Horror', 'TV Mysteries', 'Children & Family Movies', 'Stand-Up Comedy', 'Faith & Spirituality', 'TV Comedies', 'TV Dramas', 'Science & Nature TV', 'Horror Movies', 'Action & Adventure', 'Movies', 'Sports Movies', 'Crime TV Shows', 'Documentaries', 'Stand-Up Comedy & Talk Shows', 'Korean TV Shows', 'TV Shows', 'Music & Musicals', 'Romantic TV Shows', 'Teen TV Shows', 'Cult Movies', 'International Movies', 'Dramas', 'British TV Shows', 'Thrillers', 'TV Action & Adventure', 'Anime Features', 'LGBTQ Movies', 'Sci-Fi & Fantasy', 'TV Thrillers', 'Classic & Cult TV', 'International TV Shows', \"Kids' TV\", 'Spanish-Language TV Shows', 'Comedies', 'Romantic Movies', 'Reality TV', 'Independent Movies', 'Docuseries', 'TV Sci-Fi & Fantasy'}\n"
     ]
    }
   ],
   "source": [
    "print(generi_unici)"
   ]
  }
 ],
 "metadata": {
  "kernelspec": {
   "display_name": "Python 3",
   "language": "python",
   "name": "python3"
  },
  "language_info": {
   "codemirror_mode": {
    "name": "ipython",
    "version": 3
   },
   "file_extension": ".py",
   "mimetype": "text/x-python",
   "name": "python",
   "nbconvert_exporter": "python",
   "pygments_lexer": "ipython3",
   "version": "3.11.6"
  }
 },
 "nbformat": 4,
 "nbformat_minor": 2
}
