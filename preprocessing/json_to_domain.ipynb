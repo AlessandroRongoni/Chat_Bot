{
 "cells": [
  {
   "cell_type": "code",
   "execution_count": 5,
   "metadata": {},
   "outputs": [
    {
     "name": "stdout",
     "output_type": "stream",
     "text": [
      "File domain.yml creato con successo.\n"
     ]
    }
   ],
   "source": [
    "import json\n",
    "\n",
    "# Carica il JSON\n",
    "with open('../dataset/intents.json', 'r', encoding='utf-8') as file:\n",
    "    data = json.load(file)\n",
    "\n",
    "intents = [intent['tag'] for intent in data['intents']]\n",
    "responses = {}\n",
    "\n",
    "for intent in data['intents']:\n",
    "    for i, response in enumerate(intent['responses']):\n",
    "        # Genera un nome univoco per ogni risposta\n",
    "        response_name = f\"utter_{intent['tag']}_{i}\"\n",
    "        responses[response_name] = [response]\n",
    "\n",
    "# Inizia a scrivere il domain.yml\n",
    "with open('../domain.yml', 'w', encoding='utf-8') as file:\n",
    "    file.write(\"version: '3.1'\\n\\n\")\n",
    "    file.write(\"intents:\\n\")\n",
    "    for intent in intents:\n",
    "        file.write(f\"- {intent}\\n\")\n",
    "    \n",
    "    file.write(\"\\nresponses:\\n\")\n",
    "    for response_name, response_texts in responses.items():\n",
    "        file.write(f\"  {response_name}:\\n\")\n",
    "        for text in response_texts:\n",
    "            file.write(f\"  - text: \\\"{text}\\\"\\n\")\n",
    "\n",
    "print(\"File domain.yml creato con successo.\")\n"
   ]
  }
 ],
 "metadata": {
  "kernelspec": {
   "display_name": "Python 3",
   "language": "python",
   "name": "python3"
  },
  "language_info": {
   "codemirror_mode": {
    "name": "ipython",
    "version": 3
   },
   "file_extension": ".py",
   "mimetype": "text/x-python",
   "name": "python",
   "nbconvert_exporter": "python",
   "pygments_lexer": "ipython3",
   "version": "3.10.11"
  }
 },
 "nbformat": 4,
 "nbformat_minor": 2
}
