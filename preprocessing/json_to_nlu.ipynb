{
 "cells": [
  {
   "cell_type": "code",
   "execution_count": 1,
   "metadata": {},
   "outputs": [
    {
     "name": "stdout",
     "output_type": "stream",
     "text": [
      "File nlu.yml creato con successo.\n"
     ]
    }
   ],
   "source": [
    "import pandas as pd\n",
    "import json\n",
    "\n",
    "# Carica il JSON degli intenti\n",
    "with open('../dataset/intents.json', 'r', encoding='utf-8') as file:\n",
    "    data = json.load(file)\n",
    "\n",
    "# Estrai intenti, patterns e responses in liste separate\n",
    "tags = []\n",
    "patterns = []\n",
    "responses = []\n",
    "\n",
    "for intent in data['intents']:\n",
    "    tags.append(intent['tag'])\n",
    "    patterns.append(intent['patterns'])\n",
    "    responses.append(intent['responses'])\n",
    "\n",
    "# Crea un DataFrame da queste liste\n",
    "df = pd.DataFrame({\n",
    "    'tag': tags,\n",
    "    'patterns': patterns,\n",
    "    'responses': responses\n",
    "})\n",
    "\n",
    "# Ora che abbiamo il DataFrame, generiamo il file nlu.yml\n",
    "with open('../data/nlu.yml', 'w', encoding='utf-8') as nlu_file:\n",
    "    nlu_file.write(\"version: \\\"3.1\\\"\\n\\n\")\n",
    "    nlu_file.write(\"nlu:\\n\")\n",
    "    for index, row in df.iterrows():\n",
    "        # Scrivi l'intento e gli esempi\n",
    "        nlu_file.write(f\"- intent: {row['tag']}\\n\")\n",
    "        nlu_file.write(\"  examples: |\\n\")\n",
    "        for pattern in row['patterns']:\n",
    "            nlu_file.write(f\"    - {pattern}\\n\")\n",
    "\n",
    "print(\"File nlu.yml creato con successo.\")\n"
   ]
  }
 ],
 "metadata": {
  "kernelspec": {
   "display_name": "Python 3",
   "language": "python",
   "name": "python3"
  },
  "language_info": {
   "codemirror_mode": {
    "name": "ipython",
    "version": 3
   },
   "file_extension": ".py",
   "mimetype": "text/x-python",
   "name": "python",
   "nbconvert_exporter": "python",
   "pygments_lexer": "ipython3",
   "version": "3.10.11"
  }
 },
 "nbformat": 4,
 "nbformat_minor": 2
}
